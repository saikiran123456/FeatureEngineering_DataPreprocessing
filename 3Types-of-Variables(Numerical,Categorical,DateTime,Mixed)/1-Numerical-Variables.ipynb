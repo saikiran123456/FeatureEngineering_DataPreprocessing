{
 "cells": [
  {
   "cell_type": "markdown",
   "metadata": {},
   "source": [
    "# What exactly is a variable?\n",
    "\n",
    "A variable is any characteristic, number, or quantity that can be measured or counted. They are called \"variables\" because the values they take vary. The following are examples of variables:\n",
    "\n",
    "- Age (21, 35, 62, ...)\n",
    "\n",
    "- Gender (male, female)\n",
    "\n",
    "- Income (GBP 20000, GBP 35000, GBP 45000, ...)\n",
    "\n",
    "- House price (GBP 350000, GBP 570000, ...)\n",
    "\n",
    "- Country of birth (China, Russia, Costa Rica, etc.)\n",
    "\n",
    "- Eye colour (brown, green, blue, ...)\n",
    "\n",
    "- Vehicle make (Ford, Volkswagen, ...)\n",
    "\n",
    "Most variables in a data set can be classified into one of two major types:\n",
    "\n",
    "- **Numerical variables** \n",
    "- **Categorical variables**\n",
    "\n",
    "===================================================================================\n",
    "\n",
    "## Numerical variables\n",
    "\n",
    "The values of a numerical variable are numbers. They can be further classified into:\n",
    "\n",
    "- **Discrete variables** \n",
    "- **Continuous variables**\n",
    "\n",
    "\n",
    "### Discrete variables\n",
    "\n",
    "In a discrete variable, the values are whole numbers (counts). For example, the number of items bought by a customer in a supermarket is discrete. The customer can purchase one, twenty-five, or fifty items, but not 3.7 items. It is always a round number. The following are examples of discrete variables:\n",
    "\n",
    "- Number of active bank accounts of a borrower (1, 4, 7, ...)\n",
    "\n",
    "- Number of pets in the family\n",
    "\n",
    "- Number of children in the family\n",
    "\n",
    "\n",
    "### Continuous variables\n",
    "\n",
    "A variable that may contain any value within a range is continuous. For example, the total amount paid by a customer in a supermarket is continuous. The customer can pay GBP 20.5, GBP 13.10, GBP 83.20, and so on. Other examples of continuous variables are:\n",
    "\n",
    "- House price (in principle, it can take any value) (GBP 350000, 57000, 100000, ...)\n",
    "\n",
    "- Time spent surfing a website (3.4 seconds, 5.10 seconds, ...)\n",
    "\n",
    "- Total debt as a percentage of total income (0.2, 0.001, 0, 0.75, ...)\n",
    "\n",
    "=============================================================================\n",
    "\n",
    "## In this notebook: Peer-to-peer lending (Finance dataset: LOAN)\n"
   ]
  },
  {
   "cell_type": "code",
   "execution_count": 1,
   "metadata": {},
   "outputs": [],
   "source": [
    "import pandas as pd\n",
    "import matplotlib.pyplot as plt"
   ]
  },
  {
   "cell_type": "code",
   "execution_count": 2,
   "metadata": {},
   "outputs": [
    {
     "data": {
      "text/html": [
       "<div><div id=b0c25cd3-1ffb-4208-ae03-8c7024496cf7 style=\"display:none; background-color:#9D6CFF; color:white; width:200px; height:30px; padding-left:5px; border-radius:4px; flex-direction:row; justify-content:space-around; align-items:center;\" onmouseover=\"this.style.backgroundColor='#BA9BF8'\" onmouseout=\"this.style.backgroundColor='#9D6CFF'\" onclick=\"window.commands?.execute('create-mitosheet-from-dataframe-output');\">See Full Dataframe in Mito</div> <script> if (window.commands?.hasCommand('create-mitosheet-from-dataframe-output')) document.getElementById('b0c25cd3-1ffb-4208-ae03-8c7024496cf7').style.display = 'flex' </script> <table border=\"1\" class=\"dataframe\">\n",
       "  <thead>\n",
       "    <tr style=\"text-align: right;\">\n",
       "      <th></th>\n",
       "      <th>customer_id</th>\n",
       "      <th>disbursed_amount</th>\n",
       "      <th>interest</th>\n",
       "      <th>market</th>\n",
       "      <th>employment</th>\n",
       "      <th>time_employed</th>\n",
       "      <th>householder</th>\n",
       "      <th>income</th>\n",
       "      <th>date_issued</th>\n",
       "      <th>target</th>\n",
       "      <th>loan_purpose</th>\n",
       "      <th>number_open_accounts</th>\n",
       "      <th>date_last_payment</th>\n",
       "      <th>number_credit_lines_12</th>\n",
       "    </tr>\n",
       "  </thead>\n",
       "  <tbody>\n",
       "    <tr>\n",
       "      <th>0</th>\n",
       "      <td>0</td>\n",
       "      <td>23201.5</td>\n",
       "      <td>15.4840</td>\n",
       "      <td>C</td>\n",
       "      <td>Teacher</td>\n",
       "      <td>&lt;=5 years</td>\n",
       "      <td>RENT</td>\n",
       "      <td>84600.0</td>\n",
       "      <td>2013-06-11</td>\n",
       "      <td>0</td>\n",
       "      <td>Debt consolidation</td>\n",
       "      <td>4.0</td>\n",
       "      <td>2016-01-14</td>\n",
       "      <td>NaN</td>\n",
       "    </tr>\n",
       "    <tr>\n",
       "      <th>1</th>\n",
       "      <td>1</td>\n",
       "      <td>7425.0</td>\n",
       "      <td>11.2032</td>\n",
       "      <td>B</td>\n",
       "      <td>Accountant</td>\n",
       "      <td>&lt;=5 years</td>\n",
       "      <td>OWNER</td>\n",
       "      <td>102000.0</td>\n",
       "      <td>2014-05-08</td>\n",
       "      <td>0</td>\n",
       "      <td>Car purchase</td>\n",
       "      <td>13.0</td>\n",
       "      <td>2016-01-25</td>\n",
       "      <td>NaN</td>\n",
       "    </tr>\n",
       "    <tr>\n",
       "      <th>2</th>\n",
       "      <td>2</td>\n",
       "      <td>11150.0</td>\n",
       "      <td>8.5100</td>\n",
       "      <td>A</td>\n",
       "      <td>Statistician</td>\n",
       "      <td>&lt;=5 years</td>\n",
       "      <td>RENT</td>\n",
       "      <td>69840.0</td>\n",
       "      <td>2013-10-26</td>\n",
       "      <td>0</td>\n",
       "      <td>Debt consolidation</td>\n",
       "      <td>8.0</td>\n",
       "      <td>2014-09-26</td>\n",
       "      <td>NaN</td>\n",
       "    </tr>\n",
       "    <tr>\n",
       "      <th>3</th>\n",
       "      <td>3</td>\n",
       "      <td>7600.0</td>\n",
       "      <td>5.8656</td>\n",
       "      <td>A</td>\n",
       "      <td>Other</td>\n",
       "      <td>&lt;=5 years</td>\n",
       "      <td>RENT</td>\n",
       "      <td>100386.0</td>\n",
       "      <td>2015-08-20</td>\n",
       "      <td>0</td>\n",
       "      <td>Debt consolidation</td>\n",
       "      <td>20.0</td>\n",
       "      <td>2016-01-26</td>\n",
       "      <td>NaN</td>\n",
       "    </tr>\n",
       "    <tr>\n",
       "      <th>4</th>\n",
       "      <td>4</td>\n",
       "      <td>31960.0</td>\n",
       "      <td>18.7392</td>\n",
       "      <td>E</td>\n",
       "      <td>Bus driver</td>\n",
       "      <td>&gt;5 years</td>\n",
       "      <td>RENT</td>\n",
       "      <td>95040.0</td>\n",
       "      <td>2014-07-22</td>\n",
       "      <td>0</td>\n",
       "      <td>Debt consolidation</td>\n",
       "      <td>14.0</td>\n",
       "      <td>2016-01-11</td>\n",
       "      <td>NaN</td>\n",
       "    </tr>\n",
       "  </tbody>\n",
       "</table></div>"
      ],
      "text/plain": [
       "   customer_id  disbursed_amount  interest market    employment time_employed  \\\n",
       "0            0           23201.5   15.4840      C       Teacher     <=5 years   \n",
       "1            1            7425.0   11.2032      B    Accountant     <=5 years   \n",
       "2            2           11150.0    8.5100      A  Statistician     <=5 years   \n",
       "3            3            7600.0    5.8656      A         Other     <=5 years   \n",
       "4            4           31960.0   18.7392      E    Bus driver      >5 years   \n",
       "\n",
       "  householder    income date_issued  target        loan_purpose  \\\n",
       "0        RENT   84600.0  2013-06-11       0  Debt consolidation   \n",
       "1       OWNER  102000.0  2014-05-08       0        Car purchase   \n",
       "2        RENT   69840.0  2013-10-26       0  Debt consolidation   \n",
       "3        RENT  100386.0  2015-08-20       0  Debt consolidation   \n",
       "4        RENT   95040.0  2014-07-22       0  Debt consolidation   \n",
       "\n",
       "   number_open_accounts date_last_payment  number_credit_lines_12  \n",
       "0                   4.0        2016-01-14                     NaN  \n",
       "1                  13.0        2016-01-25                     NaN  \n",
       "2                   8.0        2014-09-26                     NaN  \n",
       "3                  20.0        2016-01-26                     NaN  \n",
       "4                  14.0        2016-01-11                     NaN  "
      ]
     },
     "execution_count": 2,
     "metadata": {},
     "output_type": "execute_result"
    }
   ],
   "source": [
    "# Let's load the dataset.\n",
    "\n",
    "# Variable definitions:\n",
    "#----------------------\n",
    "# disbursed_amount: loan amount given to the borrower.\n",
    "# interest: interest rate.\n",
    "# income: annual income.\n",
    "# number_open_accounts: open accounts (more on this later).\n",
    "# number_credit_lines_12: accounts opened in the last 12 months.\n",
    "# target: loan status(paid or being repaid = 1, defaulted = 0).\n",
    "\n",
    "data = pd.read_csv('loan.csv')\n",
    "\n",
    "data.head()"
   ]
  },
  {
   "cell_type": "code",
   "execution_count": 3,
   "metadata": {},
   "outputs": [
    {
     "data": {
      "text/plain": [
       "array([nan,  2.,  4.,  1.,  0.,  3.,  5.,  6.])"
      ]
     },
     "execution_count": 3,
     "metadata": {},
     "output_type": "execute_result"
    }
   ],
   "source": [
    "# number_credit_lines_12: accounts opened in the last 12 months.\n",
    "data['number_credit_lines_12'].unique()"
   ]
  },
  {
   "cell_type": "code",
   "execution_count": 4,
   "metadata": {},
   "outputs": [
    {
     "data": {
      "text/plain": [
       "array([0, 1], dtype=int64)"
      ]
     },
     "execution_count": 4,
     "metadata": {},
     "output_type": "execute_result"
    }
   ],
   "source": [
    "# target: loan status(paid or being repaid = 1, defaulted = 0).\n",
    "data['target'].unique()"
   ]
  },
  {
   "cell_type": "markdown",
   "metadata": {},
   "source": [
    "## <font color=red> Continuous variables </font>"
   ]
  },
  {
   "cell_type": "markdown",
   "metadata": {},
   "source": [
    "### <font color=green>Let's make a histogram to get familiar with the variable 'disbursed_amount' distribution.</font>"
   ]
  },
  {
   "cell_type": "code",
   "execution_count": 5,
   "metadata": {},
   "outputs": [
    {
     "data": {
      "text/plain": [
       "array([23201.5 ,  7425.  , 11150.  , ...,  6279.  , 12894.75, 25584.  ])"
      ]
     },
     "execution_count": 5,
     "metadata": {},
     "output_type": "execute_result"
    }
   ],
   "source": [
    "# Let's look at the values of the variable disbursed_amount.\n",
    "# This is the amount of money requested by the borrower.\n",
    "\n",
    "# This variable is continuous: it can take, in principle, any value.\n",
    "\n",
    "data['disbursed_amount'].unique()"
   ]
  },
  {
   "cell_type": "code",
   "execution_count": 6,
   "metadata": {},
   "outputs": [
    {
     "data": {
      "text/plain": [
       "Text(0, 0.5, 'Number of loans')"
      ]
     },
     "execution_count": 6,
     "metadata": {},
     "output_type": "execute_result"
    },
    {
     "data": {
      "image/png": "[encoded data removed]",
      "text/plain": [
       "<Figure size 640x480 with 1 Axes>"
      ]
     },
     "metadata": {},
     "output_type": "display_data"
    }
   ],
   "source": [
    "# Let's make a histogram to get familiar with the variable distribution.\n",
    "\n",
    "fig = data['disbursed_amount'].hist(bins=50)\n",
    "\n",
    "fig.set_title('Requested loan amount')\n",
    "fig.set_xlabel('Loan amount')\n",
    "fig.set_ylabel('Number of loans')"
   ]
  },
  {
   "cell_type": "markdown",
   "metadata": {},
   "source": [
    "The variable's values vary across the entire value range. This is characteristic of continuous variables."
   ]
  },
  {
   "cell_type": "code",
   "execution_count": 7,
   "metadata": {
    "scrolled": true
   },
   "outputs": [
    {
     "data": {
      "text/plain": [
       "array([15.484 , 11.2032,  8.51  , ..., 12.9195, 11.2332, 11.0019])"
      ]
     },
     "execution_count": 7,
     "metadata": {},
     "output_type": "execute_result"
    }
   ],
   "source": [
    "# Let's examine variable interest rate,\n",
    "# which is the interest charged by the finance\n",
    "# company to the borrowers.\n",
    "\n",
    "# This variable is also continuous: it can take, in principle,\n",
    "# any value within the range.\n",
    "\n",
    "data['interest'].unique()"
   ]
  },
  {
   "cell_type": "markdown",
   "metadata": {},
   "source": [
    "###  <font color=green>Let's make a histogram to get familiar with the variable 'interest' distribution."
   ]
  },
  {
   "cell_type": "code",
   "execution_count": 6,
   "metadata": {},
   "outputs": [
    {
     "data": {
      "text/plain": [
       "Text(0, 0.5, 'Number of Loans')"
      ]
     },
     "execution_count": 6,
     "metadata": {},
     "output_type": "execute_result"
    },
    {
     "data": {
      "image/png": "[encoded data removed]",
      "text/plain": [
       "<Figure size 432x288 with 1 Axes>"
      ]
     },
     "metadata": {
      "needs_background": "light"
     },
     "output_type": "display_data"
    }
   ],
   "source": [
    "# Let's make a histogram to get familiar with the variable distribution.\n",
    "\n",
    "fig = data['interest'].hist(bins=30)\n",
    "\n",
    "fig.set_title('Interest Rate')\n",
    "fig.set_xlabel('Interest Rate')\n",
    "fig.set_ylabel('Number of Loans')"
   ]
  },
  {
   "cell_type": "markdown",
   "metadata": {},
   "source": [
    "The variable's values vary continuously across the entire value range. The values are the interest rates charged to borrowers."
   ]
  },
  {
   "cell_type": "markdown",
   "metadata": {},
   "source": [
    "### <font color=green> explore the \"income\" declared by the customers, that is, how much they earn yearly."
   ]
  },
  {
   "cell_type": "code",
   "execution_count": 22,
   "metadata": {},
   "outputs": [
    {
     "data": {
      "text/plain": [
       "array([ 84600.  , 102000.  ,  69840.  , ..., 228420.  , 133950.  ,\n",
       "        55941.84])"
      ]
     },
     "execution_count": 22,
     "metadata": {},
     "output_type": "execute_result"
    }
   ],
   "source": [
    "data['income'].unique()"
   ]
  },
  {
   "cell_type": "code",
   "execution_count": 8,
   "metadata": {},
   "outputs": [
    {
     "data": {
      "text/plain": [
       "Text(0, 0.5, 'Number of Customers')"
      ]
     },
     "execution_count": 8,
     "metadata": {},
     "output_type": "execute_result"
    },
    {
     "data": {
      "image/png": "[encoded data removed]",
      "text/plain": [
       "<Figure size 640x480 with 1 Axes>"
      ]
     },
     "metadata": {},
     "output_type": "display_data"
    }
   ],
   "source": [
    "# Now, let's explore the \"income\" declared by the customers, that is, how much they earn yearly.\n",
    "\n",
    "# This variable is also continuous.\n",
    "\n",
    "fig = data['income'].hist(bins=100)\n",
    "\n",
    "# For better visualisation, I display a specific\n",
    "# range in the x-axis.\n",
    "\n",
    "fig.set_xlim(0, 400000)\n",
    "\n",
    "# title and axis legends\n",
    "fig.set_title(\"Customer's Annual Income\")\n",
    "fig.set_xlabel('Annual Income')\n",
    "fig.set_ylabel('Number of Customers')"
   ]
  },
  {
   "cell_type": "markdown",
   "metadata": {},
   "source": [
    "Only a few consumers earn greater salaries, with the majority of salaries falling between USD 30 and USD 70,000.\n",
    "Because this is a continuous variable, the variable's values vary continuously across the variable range."
   ]
  },
  {
   "cell_type": "code",
   "execution_count": null,
   "metadata": {},
   "outputs": [],
   "source": []
  },
  {
   "cell_type": "code",
   "execution_count": 9,
   "metadata": {},
   "outputs": [
    {
     "data": {
      "text/html": [
       "<div><div id=3f99fc6c-1fc0-4de1-95db-3e2ca1e5adbb style=\"display:none; background-color:#9D6CFF; color:white; width:200px; height:30px; padding-left:5px; border-radius:4px; flex-direction:row; justify-content:space-around; align-items:center;\" onmouseover=\"this.style.backgroundColor='#BA9BF8'\" onmouseout=\"this.style.backgroundColor='#9D6CFF'\" onclick=\"window.commands?.execute('create-mitosheet-from-dataframe-output');\">See Full Dataframe in Mito</div> <script> if (window.commands?.hasCommand('create-mitosheet-from-dataframe-output')) document.getElementById('3f99fc6c-1fc0-4de1-95db-3e2ca1e5adbb').style.display = 'flex' </script> <table border=\"1\" class=\"dataframe\">\n",
       "  <thead>\n",
       "    <tr style=\"text-align: right;\">\n",
       "      <th></th>\n",
       "      <th>customer_id</th>\n",
       "      <th>disbursed_amount</th>\n",
       "      <th>interest</th>\n",
       "      <th>market</th>\n",
       "      <th>employment</th>\n",
       "      <th>time_employed</th>\n",
       "      <th>householder</th>\n",
       "      <th>income</th>\n",
       "      <th>date_issued</th>\n",
       "      <th>target</th>\n",
       "      <th>loan_purpose</th>\n",
       "      <th>number_open_accounts</th>\n",
       "      <th>date_last_payment</th>\n",
       "      <th>number_credit_lines_12</th>\n",
       "    </tr>\n",
       "  </thead>\n",
       "  <tbody>\n",
       "    <tr>\n",
       "      <th>0</th>\n",
       "      <td>0</td>\n",
       "      <td>23201.5</td>\n",
       "      <td>15.4840</td>\n",
       "      <td>C</td>\n",
       "      <td>Teacher</td>\n",
       "      <td>&lt;=5 years</td>\n",
       "      <td>RENT</td>\n",
       "      <td>84600.0</td>\n",
       "      <td>2013-06-11</td>\n",
       "      <td>0</td>\n",
       "      <td>Debt consolidation</td>\n",
       "      <td>4.0</td>\n",
       "      <td>2016-01-14</td>\n",
       "      <td>NaN</td>\n",
       "    </tr>\n",
       "    <tr>\n",
       "      <th>1</th>\n",
       "      <td>1</td>\n",
       "      <td>7425.0</td>\n",
       "      <td>11.2032</td>\n",
       "      <td>B</td>\n",
       "      <td>Accountant</td>\n",
       "      <td>&lt;=5 years</td>\n",
       "      <td>OWNER</td>\n",
       "      <td>102000.0</td>\n",
       "      <td>2014-05-08</td>\n",
       "      <td>0</td>\n",
       "      <td>Car purchase</td>\n",
       "      <td>13.0</td>\n",
       "      <td>2016-01-25</td>\n",
       "      <td>NaN</td>\n",
       "    </tr>\n",
       "    <tr>\n",
       "      <th>2</th>\n",
       "      <td>2</td>\n",
       "      <td>11150.0</td>\n",
       "      <td>8.5100</td>\n",
       "      <td>A</td>\n",
       "      <td>Statistician</td>\n",
       "      <td>&lt;=5 years</td>\n",
       "      <td>RENT</td>\n",
       "      <td>69840.0</td>\n",
       "      <td>2013-10-26</td>\n",
       "      <td>0</td>\n",
       "      <td>Debt consolidation</td>\n",
       "      <td>8.0</td>\n",
       "      <td>2014-09-26</td>\n",
       "      <td>NaN</td>\n",
       "    </tr>\n",
       "    <tr>\n",
       "      <th>3</th>\n",
       "      <td>3</td>\n",
       "      <td>7600.0</td>\n",
       "      <td>5.8656</td>\n",
       "      <td>A</td>\n",
       "      <td>Other</td>\n",
       "      <td>&lt;=5 years</td>\n",
       "      <td>RENT</td>\n",
       "      <td>100386.0</td>\n",
       "      <td>2015-08-20</td>\n",
       "      <td>0</td>\n",
       "      <td>Debt consolidation</td>\n",
       "      <td>20.0</td>\n",
       "      <td>2016-01-26</td>\n",
       "      <td>NaN</td>\n",
       "    </tr>\n",
       "    <tr>\n",
       "      <th>4</th>\n",
       "      <td>4</td>\n",
       "      <td>31960.0</td>\n",
       "      <td>18.7392</td>\n",
       "      <td>E</td>\n",
       "      <td>Bus driver</td>\n",
       "      <td>&gt;5 years</td>\n",
       "      <td>RENT</td>\n",
       "      <td>95040.0</td>\n",
       "      <td>2014-07-22</td>\n",
       "      <td>0</td>\n",
       "      <td>Debt consolidation</td>\n",
       "      <td>14.0</td>\n",
       "      <td>2016-01-11</td>\n",
       "      <td>NaN</td>\n",
       "    </tr>\n",
       "    <tr>\n",
       "      <th>...</th>\n",
       "      <td>...</td>\n",
       "      <td>...</td>\n",
       "      <td>...</td>\n",
       "      <td>...</td>\n",
       "      <td>...</td>\n",
       "      <td>...</td>\n",
       "      <td>...</td>\n",
       "      <td>...</td>\n",
       "      <td>...</td>\n",
       "      <td>...</td>\n",
       "      <td>...</td>\n",
       "      <td>...</td>\n",
       "      <td>...</td>\n",
       "      <td>...</td>\n",
       "    </tr>\n",
       "    <tr>\n",
       "      <th>9995</th>\n",
       "      <td>9995</td>\n",
       "      <td>23750.0</td>\n",
       "      <td>11.0019</td>\n",
       "      <td>B</td>\n",
       "      <td>Civil Servant</td>\n",
       "      <td>&lt;=5 years</td>\n",
       "      <td>MORTGAGE</td>\n",
       "      <td>98000.0</td>\n",
       "      <td>2010-01-14</td>\n",
       "      <td>0</td>\n",
       "      <td>Other</td>\n",
       "      <td>12.0</td>\n",
       "      <td>2010-11-03</td>\n",
       "      <td>NaN</td>\n",
       "    </tr>\n",
       "    <tr>\n",
       "      <th>9996</th>\n",
       "      <td>9996</td>\n",
       "      <td>11880.0</td>\n",
       "      <td>10.4923</td>\n",
       "      <td>B</td>\n",
       "      <td>Civil Servant</td>\n",
       "      <td>&lt;=5 years</td>\n",
       "      <td>RENT</td>\n",
       "      <td>36270.0</td>\n",
       "      <td>2015-03-20</td>\n",
       "      <td>0</td>\n",
       "      <td>Debt consolidation</td>\n",
       "      <td>17.0</td>\n",
       "      <td>2016-01-26</td>\n",
       "      <td>NaN</td>\n",
       "    </tr>\n",
       "    <tr>\n",
       "      <th>9997</th>\n",
       "      <td>9997</td>\n",
       "      <td>19950.0</td>\n",
       "      <td>8.4364</td>\n",
       "      <td>B</td>\n",
       "      <td>Accountant</td>\n",
       "      <td>&gt;5 years</td>\n",
       "      <td>OWNER</td>\n",
       "      <td>52250.0</td>\n",
       "      <td>2015-04-03</td>\n",
       "      <td>0</td>\n",
       "      <td>Debt consolidation</td>\n",
       "      <td>9.0</td>\n",
       "      <td>2015-12-12</td>\n",
       "      <td>NaN</td>\n",
       "    </tr>\n",
       "    <tr>\n",
       "      <th>9998</th>\n",
       "      <td>9998</td>\n",
       "      <td>4850.0</td>\n",
       "      <td>13.6409</td>\n",
       "      <td>C</td>\n",
       "      <td>Bus driver</td>\n",
       "      <td>&gt;5 years</td>\n",
       "      <td>RENT</td>\n",
       "      <td>80040.0</td>\n",
       "      <td>2014-11-23</td>\n",
       "      <td>0</td>\n",
       "      <td>Debt consolidation</td>\n",
       "      <td>26.0</td>\n",
       "      <td>2016-01-01</td>\n",
       "      <td>NaN</td>\n",
       "    </tr>\n",
       "    <tr>\n",
       "      <th>9999</th>\n",
       "      <td>9999</td>\n",
       "      <td>25584.0</td>\n",
       "      <td>17.1456</td>\n",
       "      <td>D</td>\n",
       "      <td>Accountant</td>\n",
       "      <td>&gt;5 years</td>\n",
       "      <td>MORTGAGE</td>\n",
       "      <td>72000.0</td>\n",
       "      <td>2015-01-19</td>\n",
       "      <td>0</td>\n",
       "      <td>Debt consolidation</td>\n",
       "      <td>5.0</td>\n",
       "      <td>2016-01-16</td>\n",
       "      <td>NaN</td>\n",
       "    </tr>\n",
       "  </tbody>\n",
       "</table></div>"
      ],
      "text/plain": [
       "      customer_id  disbursed_amount  interest market     employment  \\\n",
       "0               0           23201.5   15.4840      C        Teacher   \n",
       "1               1            7425.0   11.2032      B     Accountant   \n",
       "2               2           11150.0    8.5100      A   Statistician   \n",
       "3               3            7600.0    5.8656      A          Other   \n",
       "4               4           31960.0   18.7392      E     Bus driver   \n",
       "...           ...               ...       ...    ...            ...   \n",
       "9995         9995           23750.0   11.0019      B  Civil Servant   \n",
       "9996         9996           11880.0   10.4923      B  Civil Servant   \n",
       "9997         9997           19950.0    8.4364      B     Accountant   \n",
       "9998         9998            4850.0   13.6409      C     Bus driver   \n",
       "9999         9999           25584.0   17.1456      D     Accountant   \n",
       "\n",
       "     time_employed householder    income date_issued  target  \\\n",
       "0        <=5 years        RENT   84600.0  2013-06-11       0   \n",
       "1        <=5 years       OWNER  102000.0  2014-05-08       0   \n",
       "2        <=5 years        RENT   69840.0  2013-10-26       0   \n",
       "3        <=5 years        RENT  100386.0  2015-08-20       0   \n",
       "4         >5 years        RENT   95040.0  2014-07-22       0   \n",
       "...            ...         ...       ...         ...     ...   \n",
       "9995     <=5 years    MORTGAGE   98000.0  2010-01-14       0   \n",
       "9996     <=5 years        RENT   36270.0  2015-03-20       0   \n",
       "9997      >5 years       OWNER   52250.0  2015-04-03       0   \n",
       "9998      >5 years        RENT   80040.0  2014-11-23       0   \n",
       "9999      >5 years    MORTGAGE   72000.0  2015-01-19       0   \n",
       "\n",
       "            loan_purpose  number_open_accounts date_last_payment  \\\n",
       "0     Debt consolidation                   4.0        2016-01-14   \n",
       "1           Car purchase                  13.0        2016-01-25   \n",
       "2     Debt consolidation                   8.0        2014-09-26   \n",
       "3     Debt consolidation                  20.0        2016-01-26   \n",
       "4     Debt consolidation                  14.0        2016-01-11   \n",
       "...                  ...                   ...               ...   \n",
       "9995               Other                  12.0        2010-11-03   \n",
       "9996  Debt consolidation                  17.0        2016-01-26   \n",
       "9997  Debt consolidation                   9.0        2015-12-12   \n",
       "9998  Debt consolidation                  26.0        2016-01-01   \n",
       "9999  Debt consolidation                   5.0        2016-01-16   \n",
       "\n",
       "      number_credit_lines_12  \n",
       "0                        NaN  \n",
       "1                        NaN  \n",
       "2                        NaN  \n",
       "3                        NaN  \n",
       "4                        NaN  \n",
       "...                      ...  \n",
       "9995                     NaN  \n",
       "9996                     NaN  \n",
       "9997                     NaN  \n",
       "9998                     NaN  \n",
       "9999                     NaN  \n",
       "\n",
       "[10000 rows x 14 columns]"
      ]
     },
     "execution_count": 9,
     "metadata": {},
     "output_type": "execute_result"
    }
   ],
   "source": [
    "data"
   ]
  },
  {
   "cell_type": "code",
   "execution_count": null,
   "metadata": {},
   "outputs": [],
   "source": []
  },
  {
   "cell_type": "markdown",
   "metadata": {},
   "source": [
    "## <font color=red>Discrete variables"
   ]
  },
  {
   "cell_type": "markdown",
   "metadata": {},
   "source": [
    "### 'number_open_accounts' Histogram plot"
   ]
  },
  {
   "cell_type": "markdown",
   "metadata": {},
   "source": [
    "Let's explore the variable \"Number of open credit lines in the borrower's credit file\" (\"number_open_accounts\" in the dataset). \n",
    "\n",
    "This variable represents the borrower's total number of credit items (for example, credit cards, car loans, mortgages, etc.). \n",
    "\n",
    "By definition, it is a discrete variable, because a borrower can have 1 credit card, but not 3.5 credit cards."
   ]
  },
  {
   "cell_type": "code",
   "execution_count": 10,
   "metadata": {},
   "outputs": [
    {
     "data": {
      "text/plain": [
       "array([ 4., 13.,  8., 20., 14.,  5.,  9., 18., 16., 17., 12., 15.,  6.,\n",
       "       10., 11.,  7., 21., 19., 26.,  2., 22., 27., 23., 25., 24., 28.,\n",
       "        3., 30., 41., 32., 33., 31., 29., 37., 49., 34., 35., 38.,  1.,\n",
       "       36., 42., 47., 40., 44., 43.])"
      ]
     },
     "execution_count": 10,
     "metadata": {},
     "output_type": "execute_result"
    }
   ],
   "source": [
    "# Let's inspect the values of the variable.\n",
    "data['number_open_accounts'].unique()"
   ]
  },
  {
   "cell_type": "code",
   "execution_count": 11,
   "metadata": {},
   "outputs": [
    {
     "data": {
      "text/plain": [
       "array([ 4., 13.,  8., 20., 14.,  5.,  9., 18., 16., 17., 12., 15.,  6.,\n",
       "       10., 11.,  7., 21., 19., 26.,  2., 22., 27., 23., 25., 24., 28.,\n",
       "        3., 30., 41., 32., 33., 31., 29., 37., 49., 34., 35., 38.,  1.,\n",
       "       36., 42., 47., 40., 44., 43.])"
      ]
     },
     "execution_count": 11,
     "metadata": {},
     "output_type": "execute_result"
    }
   ],
   "source": [
    "# 'number_open_accounts' is a discrete variable.\n",
    "data['number_open_accounts'].dropna().unique()"
   ]
  },
  {
   "cell_type": "code",
   "execution_count": 12,
   "metadata": {},
   "outputs": [
    {
     "data": {
      "text/plain": [
       "Text(0, 0.5, 'Number of Customers')"
      ]
     },
     "execution_count": 12,
     "metadata": {},
     "output_type": "execute_result"
    },
    {
     "data": {
      "image/png": "[encoded data removed]",
      "text/plain": [
       "<Figure size 640x480 with 1 Axes>"
      ]
     },
     "metadata": {},
     "output_type": "display_data"
    }
   ],
   "source": [
    "# Let's make an histogram to get familiar with the variable distribution.\n",
    "\n",
    "fig = data['number_open_accounts'].hist(bins=100)\n",
    "\n",
    "# For better visualisation, I display a specific value range in the x-axis.\n",
    "fig.set_xlim(0, 30)\n",
    "\n",
    "# Title and axis labels.\n",
    "fig.set_title('Number of open accounts')\n",
    "fig.set_xlabel('Number of open accounts')\n",
    "fig.set_ylabel('Number of Customers')"
   ]
  },
  {
   "cell_type": "markdown",
   "metadata": {},
   "source": [
    "Because not all of the values within the variable range are present in the variable, histograms of discrete variables show this typical broken form.\n",
    "\n",
    "Let's look at another example of a discrete variable in this dataset: **Number of installment accounts opened in the previous 12 months** (in the dataset, 'number_credit_lines_12').\n",
    "\n",
    "Installment accounts are ones that have a defined length and quantity of repayments agreed upon between the lender and the borrower at the time of acquisition. A car loan or a student loan are two examples of this. The borrower understands that they will pay a set amount over a set length of time, such as 36 months."
   ]
  },
  {
   "cell_type": "code",
   "execution_count": null,
   "metadata": {},
   "outputs": [],
   "source": []
  },
  {
   "cell_type": "markdown",
   "metadata": {},
   "source": [
    "### number_credit_lines_12 Histogram plot"
   ]
  },
  {
   "cell_type": "code",
   "execution_count": 13,
   "metadata": {},
   "outputs": [
    {
     "data": {
      "text/plain": [
       "array([nan,  2.,  4.,  1.,  0.,  3.,  5.,  6.])"
      ]
     },
     "execution_count": 13,
     "metadata": {},
     "output_type": "execute_result"
    }
   ],
   "source": [
    "# Let's inspect the variable values. 'number_credit_lines_12'\n",
    "data['number_credit_lines_12'].unique()"
   ]
  },
  {
   "cell_type": "code",
   "execution_count": 14,
   "metadata": {},
   "outputs": [
    {
     "data": {
      "text/plain": [
       "Text(0, 0.5, 'Number of Borrowers')"
      ]
     },
     "execution_count": 14,
     "metadata": {},
     "output_type": "execute_result"
    },
    {
     "data": {
      "image/png": "[encoded data removed]",
      "text/plain": [
       "<Figure size 640x480 with 1 Axes>"
      ]
     },
     "metadata": {},
     "output_type": "display_data"
    }
   ],
   "source": [
    "# Let's make a histogram to get familiar with the variable distribution.\n",
    "\n",
    "fig = data['number_credit_lines_12'].hist(bins=50)\n",
    "fig.set_title('Number of installment accounts opened in past 12 months')\n",
    "fig.set_xlabel('Number of installment accounts opened in past 12 months')\n",
    "fig.set_ylabel('Number of Borrowers')"
   ]
  },
  {
   "cell_type": "markdown",
   "metadata": {},
   "source": [
    "Only a few borrowers have more than two installment accounts."
   ]
  },
  {
   "cell_type": "markdown",
   "metadata": {},
   "source": [
    "## <font color=red>Binary variables\n",
    "\n",
    "Binary variables are discrete variables with only two possible values, hence the name."
   ]
  },
  {
   "cell_type": "markdown",
   "metadata": {},
   "source": [
    "### 'target' Histogram plot"
   ]
  },
  {
   "cell_type": "code",
   "execution_count": 15,
   "metadata": {},
   "outputs": [
    {
     "data": {
      "text/plain": [
       "array([0, 1], dtype=int64)"
      ]
     },
     "execution_count": 15,
     "metadata": {},
     "output_type": "execute_result"
    }
   ],
   "source": [
    "# A binary variable, can take 2 values. For example in the variable \"target\", either the loan is  defaulted (1) or not (0).\n",
    "data['target'].unique()"
   ]
  },
  {
   "cell_type": "code",
   "execution_count": 16,
   "metadata": {},
   "outputs": [
    {
     "data": {
      "text/plain": [
       "Text(0, 0.5, 'Number of Loans')"
      ]
     },
     "execution_count": 16,
     "metadata": {},
     "output_type": "execute_result"
    },
    {
     "data": {
      "image/png": "[encoded data removed]",
      "text/plain": [
       "<Figure size 640x480 with 1 Axes>"
      ]
     },
     "metadata": {},
     "output_type": "display_data"
    }
   ],
   "source": [
    "# Let's make a histogram, although histograms for binary variables do not make a lot of sense.\n",
    "\n",
    "fig = data['target'].hist()\n",
    "fig.set_xlim(0, 2)\n",
    "fig.set_title('Defaulted accounts')\n",
    "fig.set_xlabel('Defaulted')\n",
    "fig.set_ylabel('Number of Loans')"
   ]
  },
  {
   "cell_type": "markdown",
   "metadata": {},
   "source": [
    "As we can see, the variable shows only 2 values, 0 and 1, and the **majority of the loans have not been defaulted.**"
   ]
  },
  {
   "cell_type": "code",
   "execution_count": null,
   "metadata": {},
   "outputs": [],
   "source": []
  },
  {
   "cell_type": "markdown",
   "metadata": {},
   "source": [
    "**That is all for this demonstration. I hope you enjoyed my notebook, and I'll see you in the next one.**"
   ]
  },
  {
   "cell_type": "code",
   "execution_count": null,
   "metadata": {},
   "outputs": [],
   "source": []
  }
 ],
 "metadata": {
  "kernelspec": {
   "display_name": "Python 3 (ipykernel)",
   "language": "python",
   "name": "python3"
  },
  "language_info": {
   "codemirror_mode": {
    "name": "ipython",
    "version": 3
   },
   "file_extension": ".py",
   "mimetype": "text/x-python",
   "name": "python",
   "nbconvert_exporter": "python",
   "pygments_lexer": "ipython3",
   "version": "3.9.15"
  },
  "toc": {
   "base_numbering": 1,
   "nav_menu": {},
   "number_sections": true,
   "sideBar": true,
   "skip_h1_title": false,
   "title_cell": "Table of Contents",
   "title_sidebar": "Contents",
   "toc_cell": false,
   "toc_position": {},
   "toc_section_display": "block",
   "toc_window_display": true
  }
 },
 "nbformat": 4,
 "nbformat_minor": 1
}
