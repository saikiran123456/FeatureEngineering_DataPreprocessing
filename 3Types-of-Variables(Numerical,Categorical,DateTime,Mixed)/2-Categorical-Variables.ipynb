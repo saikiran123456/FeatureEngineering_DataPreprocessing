{
 "cells": [
  {
   "cell_type": "markdown",
   "metadata": {},
   "source": [
    "# What exactly is a variable?\n",
    "\n",
    "A variable is any characteristic, number, or quantity that can be measured or counted. They are called \"variables\" because the values they take vary. The following are examples of variables:\n",
    "\n",
    "- Age (21, 35, 62, ...)\n",
    "\n",
    "- Gender (male, female)\n",
    "\n",
    "- Income (GBP 20000, GBP 35000, GBP 45000, ...)\n",
    "\n",
    "- House price (GBP 350000, GBP 570000, ...)\n",
    "\n",
    "- Country of birth (China, Russia, Costa Rica, etc.)\n",
    "\n",
    "- Eye colour (brown, green, blue, ...)\n",
    "\n",
    "- Vehicle make (Ford, Volkswagen, ...)\n",
    "\n",
    "Most variables in a data set can be classified into one of two major types:\n",
    "\n",
    "- **Numerical variables** \n",
    "- **Categorical variables**\n",
    "\n",
    "===================================================================================\n",
    "\n",
    "\n",
    "## Categorical Variables\n",
    "\n",
    "The values of a categorical variable are selected from a group of **categories**, also called **labels**. Examples are gender (male or female) and marital status (single, married, divorced, or widowed). Other examples of categorical variables include:\n",
    "\n",
    "- Intended use of loan (debt-consolidation, car purchase, wedding expenses, etc.)\n",
    "\n",
    "- Mobile network provider (Vodafone, Orange,...)\n",
    "\n",
    "- Postcode\n",
    "\n",
    "Categorical variables can be further categorized into:\n",
    "\n",
    "- **Ordinal Variables**\n",
    "- **Nominal variables**\n",
    "\n",
    "\n",
    "## Ordinal variables\n",
    "\n",
    "Ordinal variables are categorical variables whose categories can be meaningfully ordered. For example:\n",
    "\n",
    "- Student's grade on an exam (A, B, C, or Fail).\n",
    "\n",
    "- Days of the week, where Monday is 1 and Sunday is 7.\n",
    "\n",
    "- Educational level, with the categories of elementary school, high school, college graduate, and PhD ranked from 1 to 4.  \n",
    "\n",
    "## Nominal variables\n",
    "\n",
    "There is no inherent order in the labels for nominal variables. Country of birth, for example, has nominal values of Argentina, England, Germany, and so on. Nominal variables include the following:\n",
    "\n",
    "- Car color (blue, gray, silver, ...)\n",
    "\n",
    "- Vehicle make (Citroen, Peugeot, ...)\n",
    "\n",
    "- City (Manchester, London, Chester, ...)\n",
    "\n",
    "In principle, there is nothing that indicates an intrinsic order to the labels, and in fact, they are all equal.\n",
    "\n",
    "**To be considered:**\n",
    "\n",
    "Sometimes categorical variables are coded as numbers (e.g., gender may be coded as 0 for males and 1 for females). The variable is still categorical, despite the use of numbers.\n",
    "\n",
    "In a similar way, individuals in a survey may be coded with a number that uniquely identifies them (for example, to avoid displaying personal information). This number is really a label, and the variable is then categorical. The number has no importance other than to allow the observation to be uniquely identified.\n",
    "\n",
    "When working with a dataset in a commercial setting, it's ideal if the data comes with a dictionary that specifies whether the numbers in the variables are to be considered categories or numerical. If the numbers are categories, the dictionary will explain what each variable's value signifies.\n",
    "\n",
    "=============================================================================\n",
    "\n",
    "## In this notebook: Peer-to-peer lending (Finance- LOAN dataset)\n"
   ]
  },
  {
   "cell_type": "code",
   "execution_count": 1,
   "metadata": {},
   "outputs": [],
   "source": [
    "import pandas as pd\n",
    "import matplotlib.pyplot as plt"
   ]
  },
  {
   "cell_type": "code",
   "execution_count": 2,
   "metadata": {},
   "outputs": [
    {
     "data": {
      "text/html": [
       "<div><div id=7142bee5-01b9-4680-87fc-20037339d896 style=\"display:none; background-color:#9D6CFF; color:white; width:200px; height:30px; padding-left:5px; border-radius:4px; flex-direction:row; justify-content:space-around; align-items:center;\" onmouseover=\"this.style.backgroundColor='#BA9BF8'\" onmouseout=\"this.style.backgroundColor='#9D6CFF'\" onclick=\"window.commands?.execute('create-mitosheet-from-dataframe-output');\">See Full Dataframe in Mito</div> <script> if (window.commands?.hasCommand('create-mitosheet-from-dataframe-output')) document.getElementById('7142bee5-01b9-4680-87fc-20037339d896').style.display = 'flex' </script> <table border=\"1\" class=\"dataframe\">\n",
       "  <thead>\n",
       "    <tr style=\"text-align: right;\">\n",
       "      <th></th>\n",
       "      <th>customer_id</th>\n",
       "      <th>disbursed_amount</th>\n",
       "      <th>interest</th>\n",
       "      <th>market</th>\n",
       "      <th>employment</th>\n",
       "      <th>time_employed</th>\n",
       "      <th>householder</th>\n",
       "      <th>income</th>\n",
       "      <th>date_issued</th>\n",
       "      <th>target</th>\n",
       "      <th>loan_purpose</th>\n",
       "      <th>number_open_accounts</th>\n",
       "      <th>date_last_payment</th>\n",
       "      <th>number_credit_lines_12</th>\n",
       "    </tr>\n",
       "  </thead>\n",
       "  <tbody>\n",
       "    <tr>\n",
       "      <th>0</th>\n",
       "      <td>0</td>\n",
       "      <td>23201.5</td>\n",
       "      <td>15.4840</td>\n",
       "      <td>C</td>\n",
       "      <td>Teacher</td>\n",
       "      <td>&lt;=5 years</td>\n",
       "      <td>RENT</td>\n",
       "      <td>84600.0</td>\n",
       "      <td>2013-06-11</td>\n",
       "      <td>0</td>\n",
       "      <td>Debt consolidation</td>\n",
       "      <td>4.0</td>\n",
       "      <td>2016-01-14</td>\n",
       "      <td>NaN</td>\n",
       "    </tr>\n",
       "    <tr>\n",
       "      <th>1</th>\n",
       "      <td>1</td>\n",
       "      <td>7425.0</td>\n",
       "      <td>11.2032</td>\n",
       "      <td>B</td>\n",
       "      <td>Accountant</td>\n",
       "      <td>&lt;=5 years</td>\n",
       "      <td>OWNER</td>\n",
       "      <td>102000.0</td>\n",
       "      <td>2014-05-08</td>\n",
       "      <td>0</td>\n",
       "      <td>Car purchase</td>\n",
       "      <td>13.0</td>\n",
       "      <td>2016-01-25</td>\n",
       "      <td>NaN</td>\n",
       "    </tr>\n",
       "    <tr>\n",
       "      <th>2</th>\n",
       "      <td>2</td>\n",
       "      <td>11150.0</td>\n",
       "      <td>8.5100</td>\n",
       "      <td>A</td>\n",
       "      <td>Statistician</td>\n",
       "      <td>&lt;=5 years</td>\n",
       "      <td>RENT</td>\n",
       "      <td>69840.0</td>\n",
       "      <td>2013-10-26</td>\n",
       "      <td>0</td>\n",
       "      <td>Debt consolidation</td>\n",
       "      <td>8.0</td>\n",
       "      <td>2014-09-26</td>\n",
       "      <td>NaN</td>\n",
       "    </tr>\n",
       "    <tr>\n",
       "      <th>3</th>\n",
       "      <td>3</td>\n",
       "      <td>7600.0</td>\n",
       "      <td>5.8656</td>\n",
       "      <td>A</td>\n",
       "      <td>Other</td>\n",
       "      <td>&lt;=5 years</td>\n",
       "      <td>RENT</td>\n",
       "      <td>100386.0</td>\n",
       "      <td>2015-08-20</td>\n",
       "      <td>0</td>\n",
       "      <td>Debt consolidation</td>\n",
       "      <td>20.0</td>\n",
       "      <td>2016-01-26</td>\n",
       "      <td>NaN</td>\n",
       "    </tr>\n",
       "    <tr>\n",
       "      <th>4</th>\n",
       "      <td>4</td>\n",
       "      <td>31960.0</td>\n",
       "      <td>18.7392</td>\n",
       "      <td>E</td>\n",
       "      <td>Bus driver</td>\n",
       "      <td>&gt;5 years</td>\n",
       "      <td>RENT</td>\n",
       "      <td>95040.0</td>\n",
       "      <td>2014-07-22</td>\n",
       "      <td>0</td>\n",
       "      <td>Debt consolidation</td>\n",
       "      <td>14.0</td>\n",
       "      <td>2016-01-11</td>\n",
       "      <td>NaN</td>\n",
       "    </tr>\n",
       "  </tbody>\n",
       "</table></div>"
      ],
      "text/plain": [
       "   customer_id  disbursed_amount  interest market    employment time_employed  \\\n",
       "0            0           23201.5   15.4840      C       Teacher     <=5 years   \n",
       "1            1            7425.0   11.2032      B    Accountant     <=5 years   \n",
       "2            2           11150.0    8.5100      A  Statistician     <=5 years   \n",
       "3            3            7600.0    5.8656      A         Other     <=5 years   \n",
       "4            4           31960.0   18.7392      E    Bus driver      >5 years   \n",
       "\n",
       "  householder    income date_issued  target        loan_purpose  \\\n",
       "0        RENT   84600.0  2013-06-11       0  Debt consolidation   \n",
       "1       OWNER  102000.0  2014-05-08       0        Car purchase   \n",
       "2        RENT   69840.0  2013-10-26       0  Debt consolidation   \n",
       "3        RENT  100386.0  2015-08-20       0  Debt consolidation   \n",
       "4        RENT   95040.0  2014-07-22       0  Debt consolidation   \n",
       "\n",
       "   number_open_accounts date_last_payment  number_credit_lines_12  \n",
       "0                   4.0        2016-01-14                     NaN  \n",
       "1                  13.0        2016-01-25                     NaN  \n",
       "2                   8.0        2014-09-26                     NaN  \n",
       "3                  20.0        2016-01-26                     NaN  \n",
       "4                  14.0        2016-01-11                     NaN  "
      ]
     },
     "execution_count": 2,
     "metadata": {},
     "output_type": "execute_result"
    }
   ],
   "source": [
    "# Let's load the dataset.\n",
    "\n",
    "# Variable definitions:\n",
    "#----------------------\n",
    "# loan_purpose: intended use of the loan\n",
    "# market: the risk market assigned to the borrower (based in their financial situation)\n",
    "# householder: whether the borrower owns or rents their property\n",
    "\n",
    "data = pd.read_csv('loan.csv')\n",
    "\n",
    "data.head()"
   ]
  },
  {
   "cell_type": "code",
   "execution_count": 3,
   "metadata": {},
   "outputs": [
    {
     "data": {
      "text/plain": [
       "Index(['customer_id', 'disbursed_amount', 'interest', 'market', 'employment',\n",
       "       'time_employed', 'householder', 'income', 'date_issued', 'target',\n",
       "       'loan_purpose', 'number_open_accounts', 'date_last_payment',\n",
       "       'number_credit_lines_12'],\n",
       "      dtype='object')"
      ]
     },
     "execution_count": 3,
     "metadata": {},
     "output_type": "execute_result"
    }
   ],
   "source": [
    "data.columns"
   ]
  },
  {
   "cell_type": "markdown",
   "metadata": {},
   "source": [
    "## householder  BAR plot"
   ]
  },
  {
   "cell_type": "code",
   "execution_count": 5,
   "metadata": {},
   "outputs": [
    {
     "data": {
      "text/plain": [
       "array(['RENT', 'OWNER', 'MORTGAGE'], dtype=object)"
      ]
     },
     "execution_count": 5,
     "metadata": {},
     "output_type": "execute_result"
    }
   ],
   "source": [
    "# Let's inspect the variable householder, which indicates whether the borrowers own their home, or if they are renting, among other things.\n",
    "\n",
    "data['householder'].unique()"
   ]
  },
  {
   "cell_type": "code",
   "execution_count": 6,
   "metadata": {},
   "outputs": [
    {
     "data": {
      "text/plain": [
       "Text(0, 0.5, 'Number of customers')"
      ]
     },
     "execution_count": 6,
     "metadata": {},
     "output_type": "execute_result"
    },
    {
     "data": {
      "image/png": "[encoded data removed]",
      "text/plain": [
       "<Figure size 640x480 with 1 Axes>"
      ]
     },
     "metadata": {},
     "output_type": "display_data"
    }
   ],
   "source": [
    "# Let's make a bar plot with the number of loans disbursed in each category of home ownership.\n",
    "\n",
    "# The code below counts the number of observations (borrowers) in each category and then makes a bar plot.\n",
    "\n",
    "fig = data['householder'].value_counts().plot.bar()\n",
    "fig.set_title('Householder')\n",
    "fig.set_ylabel('Number of customers')"
   ]
  },
  {
   "cell_type": "markdown",
   "metadata": {},
   "source": [
    "The majority of the borrowers either own their house with a mortgage or rent their property. A few borrowers own their homes completely."
   ]
  },
  {
   "cell_type": "code",
   "execution_count": 7,
   "metadata": {},
   "outputs": [
    {
     "data": {
      "text/plain": [
       "MORTGAGE    4957\n",
       "RENT        4055\n",
       "OWNER        988\n",
       "Name: householder, dtype: int64"
      ]
     },
     "execution_count": 7,
     "metadata": {},
     "output_type": "execute_result"
    }
   ],
   "source": [
    "data['householder'].value_counts()"
   ]
  },
  {
   "cell_type": "code",
   "execution_count": 8,
   "metadata": {},
   "outputs": [
    {
     "data": {
      "text/plain": [
       "array(['Debt consolidation', 'Car purchase', 'Other', 'Home improvements',\n",
       "       'Moving home', 'Health', 'Holidays', 'Wedding'], dtype=object)"
      ]
     },
     "execution_count": 8,
     "metadata": {},
     "output_type": "execute_result"
    }
   ],
   "source": [
    "# The \"loan_purpose\" variable is another categorical variable that indicates how the borrowers intend to use the money they are borrowing. \n",
    "## For example, to improve their house, or to cancel previous debt.\n",
    "\n",
    "data['loan_purpose'].unique()"
   ]
  },
  {
   "cell_type": "markdown",
   "metadata": {},
   "source": [
    "Debt consolidation means that the borrower will use the loan to cancel previous debts; car purchase means that the borrower will use the money to buy a car; and so on. It gives an idea of the intended use of the loan."
   ]
  },
  {
   "cell_type": "markdown",
   "metadata": {},
   "source": [
    "## loan_purpose BAR plot"
   ]
  },
  {
   "cell_type": "code",
   "execution_count": 13,
   "metadata": {},
   "outputs": [
    {
     "data": {
      "text/plain": [
       "array(['Debt consolidation', 'Car purchase', 'Other', 'Home improvements',\n",
       "       'Moving home', 'Health', 'Holidays', 'Wedding'], dtype=object)"
      ]
     },
     "execution_count": 13,
     "metadata": {},
     "output_type": "execute_result"
    }
   ],
   "source": [
    "data['loan_purpose'].unique()"
   ]
  },
  {
   "cell_type": "code",
   "execution_count": 9,
   "metadata": {},
   "outputs": [
    {
     "data": {
      "text/plain": [
       "Text(0, 0.5, 'Number of customers')"
      ]
     },
     "execution_count": 9,
     "metadata": {},
     "output_type": "execute_result"
    },
    {
     "data": {
      "image/png": "[encoded data removed]",
      "text/plain": [
       "<Figure size 640x480 with 1 Axes>"
      ]
     },
     "metadata": {},
     "output_type": "display_data"
    }
   ],
   "source": [
    "# Let's make a bar plot with the number of borrowers in each category.\n",
    "# The code below counts the number of observations (borrowers) per category and then makes a plot.\n",
    "\n",
    "fig = data['loan_purpose'].value_counts().plot.bar()\n",
    "fig.set_title('Loan Purpose')\n",
    "fig.set_ylabel('Number of customers')"
   ]
  },
  {
   "cell_type": "markdown",
   "metadata": {},
   "source": [
    "The majority of debtors plan to use the money to \"consolidate debt.\" This is a common occurrence. \n",
    "\n",
    "The borrowers want to consolidate all of their debts from various financial products into a single debt, which will be the new loan they will receive from the peer-to-peer organization. This loan will normally provide a benefit to the borrower, such as reduced interest rates or a longer repayment time than a credit card, for example."
   ]
  },
  {
   "cell_type": "code",
   "execution_count": 11,
   "metadata": {},
   "outputs": [
    {
     "data": {
      "text/plain": [
       "Index(['customer_id', 'disbursed_amount', 'interest', 'market', 'employment',\n",
       "       'time_employed', 'householder', 'income', 'date_issued', 'target',\n",
       "       'loan_purpose', 'number_open_accounts', 'date_last_payment',\n",
       "       'number_credit_lines_12'],\n",
       "      dtype='object')"
      ]
     },
     "execution_count": 11,
     "metadata": {},
     "output_type": "execute_result"
    }
   ],
   "source": [
    "data.columns"
   ]
  },
  {
   "cell_type": "markdown",
   "metadata": {},
   "source": [
    "## market  BAR Plot"
   ]
  },
  {
   "cell_type": "markdown",
   "metadata": {},
   "source": [
    "**market: the risk market assigned to the borrower (based in their financial situation)**"
   ]
  },
  {
   "cell_type": "code",
   "execution_count": 10,
   "metadata": {},
   "outputs": [
    {
     "data": {
      "text/plain": [
       "array(['C', 'B', 'A', 'E', 'D'], dtype=object)"
      ]
     },
     "execution_count": 10,
     "metadata": {},
     "output_type": "execute_result"
    }
   ],
   "source": [
    "# Let's look at one additional categorical variable: \"market\", which represents the risk market or risk band assigned to the borrower.\n",
    "data['market'].unique()"
   ]
  },
  {
   "cell_type": "code",
   "execution_count": 9,
   "metadata": {},
   "outputs": [
    {
     "data": {
      "text/plain": [
       "Text(0, 0.5, 'Number of customers')"
      ]
     },
     "execution_count": 9,
     "metadata": {},
     "output_type": "execute_result"
    },
    {
     "data": {
      "image/png": "[encoded data removed]",
      "text/plain": [
       "<Figure size 432x288 with 1 Axes>"
      ]
     },
     "metadata": {
      "needs_background": "light"
     },
     "output_type": "display_data"
    }
   ],
   "source": [
    "# Let's make a bar plot with the number of borrowers\n",
    "# per category.\n",
    "\n",
    "fig = data['market'].value_counts().plot.bar()\n",
    "fig.set_title('Status of the Loan')\n",
    "fig.set_ylabel('Number of customers')"
   ]
  },
  {
   "cell_type": "markdown",
   "metadata": {},
   "source": [
    "Most customers are assigned to markets B and C. A and B are lower risk customers, and E is the highest risk customer. The higher the risk, the more likely the customer is to default; thus, the finance companies charge higher interest rates on those loans."
   ]
  },
  {
   "cell_type": "code",
   "execution_count": 10,
   "metadata": {},
   "outputs": [
    {
     "data": {
      "text/plain": [
       "0    0\n",
       "1    1\n",
       "2    2\n",
       "3    3\n",
       "4    4\n",
       "Name: customer_id, dtype: int64"
      ]
     },
     "execution_count": 10,
     "metadata": {},
     "output_type": "execute_result"
    }
   ],
   "source": [
    "# Finally, let's look at a variable that is numerical,\n",
    "# but its numbers have no real meaning.\n",
    "\n",
    "data['customer_id'].head()"
   ]
  },
  {
   "cell_type": "markdown",
   "metadata": {},
   "source": [
    "Each id corresponds to a single consumer. This number is assigned to identify the client in the event that it is needed, while guaranteeing confidentiality and data protection."
   ]
  },
  {
   "cell_type": "code",
   "execution_count": 11,
   "metadata": {},
   "outputs": [
    {
     "data": {
      "text/plain": [
       "10000"
      ]
     },
     "execution_count": 11,
     "metadata": {},
     "output_type": "execute_result"
    }
   ],
   "source": [
    "# The variable has as many different id values as customers:\n",
    "# in this case 10000.\n",
    "\n",
    "len(data['customer_id'].unique())"
   ]
  },
  {
   "cell_type": "code",
   "execution_count": null,
   "metadata": {},
   "outputs": [],
   "source": []
  },
  {
   "cell_type": "markdown",
   "metadata": {},
   "source": [
    "**That is all for this demonstration. I hope you enjoyed my notebook, and I'll see you in the next one.**"
   ]
  }
 ],
 "metadata": {
  "kernelspec": {
   "display_name": "Python 3 (ipykernel)",
   "language": "python",
   "name": "python3"
  },
  "language_info": {
   "codemirror_mode": {
    "name": "ipython",
    "version": 3
   },
   "file_extension": ".py",
   "mimetype": "text/x-python",
   "name": "python",
   "nbconvert_exporter": "python",
   "pygments_lexer": "ipython3",
   "version": "3.9.15"
  },
  "toc": {
   "base_numbering": 1,
   "nav_menu": {},
   "number_sections": true,
   "sideBar": true,
   "skip_h1_title": false,
   "title_cell": "Table of Contents",
   "title_sidebar": "Contents",
   "toc_cell": false,
   "toc_position": {},
   "toc_section_display": "block",
   "toc_window_display": true
  }
 },
 "nbformat": 4,
 "nbformat_minor": 1
}
