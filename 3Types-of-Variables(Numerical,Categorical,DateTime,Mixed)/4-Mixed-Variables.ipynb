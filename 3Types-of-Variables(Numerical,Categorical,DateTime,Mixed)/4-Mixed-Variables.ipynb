{
 "cells": [
  {
   "cell_type": "markdown",
   "metadata": {},
   "source": [
    "# Mixed Variables\n",
    "\n",
    "**Mixed variables are those whose values contain both numbers and labels.**\n",
    "\n",
    "Variables can be mixed for a variety of reasons. For example, when credit agencies gather and store financial information about users, usually the values of the variables they store are numbers. However, in some cases, the credit agencies cannot retrieve information for a certain user for various reasons. What credit agencies do in these situations is to code each different reason for which they failed to retrieve information with a different code or \"label\". Like this, they generate mixed-type variables. These variables contain numbers when the value could be retrieved, or labels otherwise.\n",
    "\n",
    "---------------------------------------------------------------------------------------\n",
    "\n",
    "**As an example, think of the variable \"number_of_open_accounts\". It can take any number, representing the number of different financial accounts of the borrower.** Sometimes, information may not be available to a certain borrower for a variety of reasons. **Each reason will be coded by a different letter. For example, \"A\": couldn't identify the person, \"B\": no relevant data, \"C\": person seems not to have any open accounts.**\n",
    "\n",
    "--------------------------------------------------------------------------------------\n",
    "\n",
    "\n",
    "**Another example of a mixed variable is the variable \"missed_payment_status.\"** This variable indicates whether a borrower has missed a (any) payment on their financial item. For example, if the borrower has a credit card, this variable indicates whether they missed a monthly payment on it. \n",
    "**Therefore, this variable can take values of 0, 1, 2, 3, meaning that the customer has missed 0–3 payments in their account. And it can also take the value \"D\" if the customer defaulted on that account.**\n",
    "\n",
    "-----------------------------------------------------------------------------------------\n",
    "\n",
    "Typically, once the customer has missed 3 payments, the lender declares the item defaulted (D). That is why this variable takes numerical values 0–3 and then D.\n"
   ]
  },
  {
   "cell_type": "code",
   "execution_count": 1,
   "metadata": {},
   "outputs": [],
   "source": [
    "import pandas as pd\n",
    "import matplotlib.pyplot as plt"
   ]
  },
  {
   "cell_type": "code",
   "execution_count": 2,
   "metadata": {},
   "outputs": [
    {
     "data": {
      "text/html": [
       "<div><div id=f8538655-4a31-4f63-bb09-2813136b4642 style=\"display:none; background-color:#9D6CFF; color:white; width:200px; height:30px; padding-left:5px; border-radius:4px; flex-direction:row; justify-content:space-around; align-items:center;\" onmouseover=\"this.style.backgroundColor='#BA9BF8'\" onmouseout=\"this.style.backgroundColor='#9D6CFF'\" onclick=\"window.commands?.execute('create-mitosheet-from-dataframe-output');\">See Full Dataframe in Mito</div> <script> if (window.commands?.hasCommand('create-mitosheet-from-dataframe-output')) document.getElementById('f8538655-4a31-4f63-bb09-2813136b4642').style.display = 'flex' </script> <table border=\"1\" class=\"dataframe\">\n",
       "  <thead>\n",
       "    <tr style=\"text-align: right;\">\n",
       "      <th></th>\n",
       "      <th>id</th>\n",
       "      <th>open_il_24m</th>\n",
       "    </tr>\n",
       "  </thead>\n",
       "  <tbody>\n",
       "    <tr>\n",
       "      <th>0</th>\n",
       "      <td>1077501</td>\n",
       "      <td>C</td>\n",
       "    </tr>\n",
       "    <tr>\n",
       "      <th>1</th>\n",
       "      <td>1077430</td>\n",
       "      <td>A</td>\n",
       "    </tr>\n",
       "    <tr>\n",
       "      <th>2</th>\n",
       "      <td>1077175</td>\n",
       "      <td>A</td>\n",
       "    </tr>\n",
       "    <tr>\n",
       "      <th>3</th>\n",
       "      <td>1076863</td>\n",
       "      <td>A</td>\n",
       "    </tr>\n",
       "    <tr>\n",
       "      <th>4</th>\n",
       "      <td>1075358</td>\n",
       "      <td>A</td>\n",
       "    </tr>\n",
       "  </tbody>\n",
       "</table></div>"
      ],
      "text/plain": [
       "        id open_il_24m\n",
       "0  1077501           C\n",
       "1  1077430           A\n",
       "2  1077175           A\n",
       "3  1076863           A\n",
       "4  1075358           A"
      ]
     },
     "execution_count": 2,
     "metadata": {},
     "output_type": "execute_result"
    }
   ],
   "source": [
    "# open_il_24m indicates: \"Number of installment accounts opened in past 24 months\".\n",
    "# Installment accounts are those that, at the moment of acquiring them, there is a set period and amount of repayments agreed between the\n",
    "## lender and borrower. \n",
    "## An example of this is a car loan, or a student loan.\n",
    "# The borrowers know that they are going to pay a fixed amount over a fixed period.\n",
    "\n",
    "data = pd.read_csv('sample_s2.csv')\n",
    "\n",
    "data.head()"
   ]
  },
  {
   "cell_type": "code",
   "execution_count": 3,
   "metadata": {},
   "outputs": [
    {
     "data": {
      "text/plain": [
       "(887379, 2)"
      ]
     },
     "execution_count": 3,
     "metadata": {},
     "output_type": "execute_result"
    }
   ],
   "source": [
    "data.shape"
   ]
  },
  {
   "cell_type": "markdown",
   "metadata": {},
   "source": [
    "## Fictitious meaning of the different letters / codes of 'open_il_24m' variable\n"
   ]
  },
  {
   "cell_type": "markdown",
   "metadata": {},
   "source": [
    "**'A': couldn't identify the person**\n",
    "\n",
    "**'B': no relevant data**\n",
    "\n",
    "**'C': person seems not to have any account open**"
   ]
  },
  {
   "cell_type": "code",
   "execution_count": 4,
   "metadata": {},
   "outputs": [
    {
     "data": {
      "text/plain": [
       "array(['C', 'A', 'B', '0.0', '1.0', '2.0', '4.0', '3.0', '6.0', '5.0',\n",
       "       '9.0', '7.0', '8.0', '13.0', '10.0', '19.0', '11.0', '12.0',\n",
       "       '14.0', '15.0'], dtype=object)"
      ]
     },
     "execution_count": 4,
     "metadata": {},
     "output_type": "execute_result"
    }
   ],
   "source": [
    "# Fictitious meaning of the different letters / codes:\n",
    "# 'A': couldn't identify the person\n",
    "# 'B': no relevant data\n",
    "# 'C': person seems not to have any account open\n",
    "\n",
    "data.open_il_24m.unique()"
   ]
  },
  {
   "cell_type": "code",
   "execution_count": 5,
   "metadata": {},
   "outputs": [
    {
     "data": {
      "text/plain": [
       "Text(0, 0.5, 'Number of borrowers')"
      ]
     },
     "execution_count": 5,
     "metadata": {},
     "output_type": "execute_result"
    },
    {
     "data": {
      "image/png": "[encoded data removed]",
      "text/plain": [
       "<Figure size 640x480 with 1 Axes>"
      ]
     },
     "metadata": {},
     "output_type": "display_data"
    }
   ],
   "source": [
    "# Now, let's make a bar plot showing the number of borrowers for each of the values of the mixed variable.\n",
    "\n",
    "fig = data.open_il_24m.value_counts().plot.bar()\n",
    "\n",
    "fig.set_title('Number of installment accounts open')\n",
    "fig.set_ylabel('Number of borrowers')"
   ]
  },
  {
   "cell_type": "markdown",
   "metadata": {
    "collapsed": true
   },
   "source": [
    "This is how a mixed variable looks like.\n",
    "\n",
    "More on mixed variables in a dedicated section towards the end of the course."
   ]
  },
  {
   "cell_type": "markdown",
   "metadata": {},
   "source": [
    "**That is all for this demonstration. I hope you enjoyed my notebook, and I'll see you in the next one.**"
   ]
  },
  {
   "cell_type": "code",
   "execution_count": null,
   "metadata": {},
   "outputs": [],
   "source": []
  }
 ],
 "metadata": {
  "kernelspec": {
   "display_name": "Python 3 (ipykernel)",
   "language": "python",
   "name": "python3"
  },
  "language_info": {
   "codemirror_mode": {
    "name": "ipython",
    "version": 3
   },
   "file_extension": ".py",
   "mimetype": "text/x-python",
   "name": "python",
   "nbconvert_exporter": "python",
   "pygments_lexer": "ipython3",
   "version": "3.9.15"
  },
  "toc": {
   "base_numbering": 1,
   "nav_menu": {},
   "number_sections": true,
   "sideBar": true,
   "skip_h1_title": false,
   "title_cell": "Table of Contents",
   "title_sidebar": "Contents",
   "toc_cell": false,
   "toc_position": {
    "height": "550px",
    "left": "0px",
    "right": "869.4px",
    "top": "107px",
    "width": "151px"
   },
   "toc_section_display": "block",
   "toc_window_display": true
  }
 },
 "nbformat": 4,
 "nbformat_minor": 1
}
